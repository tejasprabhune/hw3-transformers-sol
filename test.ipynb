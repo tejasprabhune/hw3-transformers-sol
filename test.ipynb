{
 "cells": [
  {
   "cell_type": "code",
   "execution_count": 1,
   "metadata": {},
   "outputs": [
    {
     "name": "stderr",
     "output_type": "stream",
     "text": [
      "/Users/prabhune/miniforge3/envs/nlp/lib/python3.11/site-packages/tqdm/auto.py:21: TqdmWarning: IProgress not found. Please update jupyter and ipywidgets. See https://ipywidgets.readthedocs.io/en/stable/user_install.html\n",
      "  from .autonotebook import tqdm as notebook_tqdm\n"
     ]
    }
   ],
   "source": [
    "import torch\n",
    "from transformer import Transformer, FrenchEnglishDataset\n",
    "from tokenizer.character_tokenizer import CharacterTokenizer\n",
    "from tokenizer.bpe_tokenizer import BPETokenizer"
   ]
  },
  {
   "cell_type": "code",
   "execution_count": 2,
   "metadata": {},
   "outputs": [],
   "source": [
    "tokenizer = BPETokenizer()\n",
    "vocab_size = len(tokenizer.vocab)"
   ]
  },
  {
   "cell_type": "code",
   "execution_count": 3,
   "metadata": {},
   "outputs": [],
   "source": [
    "model = Transformer(vocab_size=vocab_size,\n",
    "                    num_layers=2,\n",
    "                    num_heads=2,\n",
    "                    ffn_hidden_dim=64,\n",
    "                    embedding_dim=64,\n",
    "                    qk_length=64,\n",
    "                    value_length=64,\n",
    "                    max_length=5000,\n",
    "                    dropout=0.1)"
   ]
  },
  {
   "cell_type": "code",
   "execution_count": 65,
   "metadata": {},
   "outputs": [
    {
     "name": "stderr",
     "output_type": "stream",
     "text": [
      "/var/folders/0v/549ggjks4rdcpz14nws1mdrr0000gn/T/ipykernel_42942/3317042114.py:1: FutureWarning: You are using `torch.load` with `weights_only=False` (the current default value), which uses the default pickle module implicitly. It is possible to construct malicious pickle data which will execute arbitrary code during unpickling (See https://github.com/pytorch/pytorch/blob/main/SECURITY.md#untrusted-models for more details). In a future release, the default value for `weights_only` will be flipped to `True`. This limits the functions that could be executed during unpickling. Arbitrary objects will no longer be allowed to be loaded via this mode unless they are explicitly allowlisted by the user via `torch.serialization.add_safe_globals`. We recommend you start setting `weights_only=True` for any use case where you don't have full control of the loaded file. Please open an issue on GitHub for any issues related to this experimental feature.\n",
      "  model.load_state_dict(torch.load('ckpts/model_0_1000.pt'))\n"
     ]
    },
    {
     "data": {
      "text/plain": [
       "<All keys matched successfully>"
      ]
     },
     "execution_count": 65,
     "metadata": {},
     "output_type": "execute_result"
    }
   ],
   "source": [
    "model.load_state_dict(torch.load('ckpts/model_0_1000.pt'))"
   ]
  },
  {
   "cell_type": "code",
   "execution_count": 66,
   "metadata": {},
   "outputs": [
    {
     "name": "stderr",
     "output_type": "stream",
     "text": [
      "6it [00:00, 96791.63it/s]\n"
     ]
    }
   ],
   "source": [
    "dataset = FrenchEnglishDataset(\"en-fr.csv\", tokenizer)"
   ]
  },
  {
   "cell_type": "code",
   "execution_count": 67,
   "metadata": {},
   "outputs": [],
   "source": [
    "src, tgt = dataset[3]"
   ]
  },
  {
   "cell_type": "code",
   "execution_count": 68,
   "metadata": {},
   "outputs": [],
   "source": [
    "src = src.unsqueeze(0)\n",
    "tgt = tgt.unsqueeze(0)"
   ]
  },
  {
   "cell_type": "code",
   "execution_count": 69,
   "metadata": {},
   "outputs": [
    {
     "data": {
      "text/plain": [
       "torch.Size([1, 34])"
      ]
     },
     "execution_count": 69,
     "metadata": {},
     "output_type": "execute_result"
    }
   ],
   "source": [
    "tgt.shape"
   ]
  },
  {
   "cell_type": "code",
   "execution_count": 82,
   "metadata": {},
   "outputs": [],
   "source": [
    "out = model(src, tgt)"
   ]
  },
  {
   "cell_type": "code",
   "execution_count": 83,
   "metadata": {},
   "outputs": [
    {
     "data": {
      "text/plain": [
       "tensor([[ 4.9552, 10.9076, -2.8256,  ..., -4.6832, -5.3367, -5.3071],\n",
       "        [ 2.8790,  7.9147, -2.3498,  ..., -3.8936, -5.3360, -5.2454],\n",
       "        [ 2.1281,  1.5520, -2.9156,  ..., -5.2747, -6.7086, -6.6126],\n",
       "        ...,\n",
       "        [ 3.4124, -1.0327, -3.0924,  ..., -5.5525, -7.2886, -7.2130],\n",
       "        [ 3.5469, -1.4353, -3.0927,  ..., -5.7135, -7.3645, -7.2277],\n",
       "        [ 3.9576, -1.4869, -3.2883,  ..., -5.9967, -7.6854, -7.5581]],\n",
       "       grad_fn=<SelectBackward0>)"
      ]
     },
     "execution_count": 83,
     "metadata": {},
     "output_type": "execute_result"
    }
   ],
   "source": [
    "out[0]"
   ]
  },
  {
   "cell_type": "code",
   "execution_count": 72,
   "metadata": {},
   "outputs": [],
   "source": [
    "out = torch.nn.functional.softmax(out, dim=-1)"
   ]
  },
  {
   "cell_type": "code",
   "execution_count": 73,
   "metadata": {},
   "outputs": [],
   "source": [
    "out = torch.argmax(out, dim=-1)"
   ]
  },
  {
   "cell_type": "code",
   "execution_count": 74,
   "metadata": {},
   "outputs": [
    {
     "data": {
      "text/plain": [
       "tensor([[ 1, 11, 11, 11, 11, 11, 13, 11, 11, 13, 13, 13, 13, 13, 13, 13, 13, 13,\n",
       "         13, 13, 13, 13, 13, 13, 13, 13, 13, 13, 13, 13, 13, 13, 13, 13]])"
      ]
     },
     "execution_count": 74,
     "metadata": {},
     "output_type": "execute_result"
    }
   ],
   "source": [
    "out"
   ]
  },
  {
   "cell_type": "code",
   "execution_count": 75,
   "metadata": {},
   "outputs": [
    {
     "data": {
      "text/plain": [
       "tensor([[    1,  1890,   749,   661,    11, 37145,  6870,   257,   995,   326,\n",
       "           318,  1111, 11428,   290,  4490,    72,   577,   784,   257,  1621,\n",
       "           546,  1278, 10957,   278, 33258,  5563,   290,   262,  2296,  6377,\n",
       "           286,   262, 39385,    13]])"
      ]
     },
     "execution_count": 75,
     "metadata": {},
     "output_type": "execute_result"
    }
   ],
   "source": [
    "tgt"
   ]
  },
  {
   "cell_type": "code",
   "execution_count": 76,
   "metadata": {},
   "outputs": [
    {
     "data": {
      "text/plain": [
       "'\"For most people, astronomy represents a world that is both mysterious and grandiose – a story about glimmering celestial objects and the immensity of the cosmos.'"
      ]
     },
     "execution_count": 76,
     "metadata": {},
     "output_type": "execute_result"
    }
   ],
   "source": [
    "tokenizer.decode(tgt[0])"
   ]
  },
  {
   "cell_type": "code",
   "execution_count": 77,
   "metadata": {},
   "outputs": [
    {
     "data": {
      "text/plain": [
       "'\"Pour la majorité des gens, l\\'astronomie évoque un monde à la fois mystérieux et grandiose, celui des étoiles et de l\\'immensité cosmique.\"'"
      ]
     },
     "execution_count": 77,
     "metadata": {},
     "output_type": "execute_result"
    }
   ],
   "source": [
    "tokenizer.decode(src[0])"
   ]
  },
  {
   "cell_type": "code",
   "execution_count": 78,
   "metadata": {},
   "outputs": [
    {
     "data": {
      "text/plain": [
       "torch.Size([1, 34])"
      ]
     },
     "execution_count": 78,
     "metadata": {},
     "output_type": "execute_result"
    }
   ],
   "source": [
    "tgt.shape"
   ]
  },
  {
   "cell_type": "code",
   "execution_count": 79,
   "metadata": {},
   "outputs": [
    {
     "name": "stdout",
     "output_type": "stream",
     "text": [
      ",,\n",
      "Site map\n",
      "\n",
      "..\n",
      "Feedback\n",
      "\n",
      "\"The,,,,,,...\n",
      "Astronomers Introduction Introduction video What is Astronomy?\n",
      "\n",
      "\"\"The,,,,,,, the,.. the, the...,.,...........\n",
      "\"For most people, astronomy represents a world that is both mysterious and grandiose – a story about glimmering celestial objects and the immensity of the cosmos.\n",
      "\n",
      ",,, the\n",
      "Are we alone?\n",
      "\n",
      "\"The,,, the the,,. the...................\n",
      "\"During the Renaissance, advances in mathematics coupled with the invention of new observational instruments (like the refracting telescope) gave rise to modern astronomy.\n",
      "\n"
     ]
    }
   ],
   "source": [
    "for i in range(len(dataset)):\n",
    "    src, tgt = dataset[i]\n",
    "\n",
    "    src = src.unsqueeze(0)\n",
    "    tgt = tgt.unsqueeze(0)\n",
    "\n",
    "    out = model(src, tgt)\n",
    "\n",
    "    out = torch.nn.functional.softmax(out, dim=-1)\n",
    "\n",
    "    out = torch.argmax(out, dim=-1)\n",
    "\n",
    "    print(tokenizer.decode(out[0]))\n",
    "    print(tokenizer.decode(tgt[0]))\n",
    "    print()"
   ]
  },
  {
   "cell_type": "code",
   "execution_count": null,
   "metadata": {},
   "outputs": [],
   "source": []
  },
  {
   "cell_type": "code",
   "execution_count": null,
   "metadata": {},
   "outputs": [],
   "source": []
  }
 ],
 "metadata": {
  "kernelspec": {
   "display_name": "nlp",
   "language": "python",
   "name": "python3"
  },
  "language_info": {
   "codemirror_mode": {
    "name": "ipython",
    "version": 3
   },
   "file_extension": ".py",
   "mimetype": "text/x-python",
   "name": "python",
   "nbconvert_exporter": "python",
   "pygments_lexer": "ipython3",
   "version": "3.11.10"
  }
 },
 "nbformat": 4,
 "nbformat_minor": 2
}
